{
 "cells": [
  {
   "cell_type": "code",
   "execution_count": 4,
   "metadata": {},
   "outputs": [
    {
     "name": "stdout",
     "output_type": "stream",
     "text": [
      "El valor de x es: 5\n",
      "El valor de y es: 26\n",
      "Tu color favorito es  Rojo , tienes 21  años y pesas  55.0  kg\n"
     ]
    }
   ],
   "source": [
    "x = 5 \n",
    "y = 1 + x*5 \n",
    "z = (\"hola a todos\") \n",
    "w = input (\"ingresa tu color favorito: \") \n",
    "edad = int (input (\"ingresa tu edad: \")) \n",
    "peso = float (input (\"¿cuánto pesas? \"))  \n",
    "\n",
    "#imprime los datos \n",
    "print(\"El valor de x es:\", x) \n",
    "print(\"El valor de y es:\", y) \n",
    "print(\"Tu color favorito es \",w, \", tienes\",edad, \" años y pesas \",peso,\" kg\")"
   ]
  },
  {
   "cell_type": "code",
   "execution_count": null,
   "metadata": {},
   "outputs": [],
   "source": []
  }
 ],
 "metadata": {
  "kernelspec": {
   "display_name": "Python 3.9.12 ('base')",
   "language": "python",
   "name": "python3"
  },
  "language_info": {
   "codemirror_mode": {
    "name": "ipython",
    "version": 3
   },
   "file_extension": ".py",
   "mimetype": "text/x-python",
   "name": "python",
   "nbconvert_exporter": "python",
   "pygments_lexer": "ipython3",
   "version": "3.9.12"
  },
  "orig_nbformat": 4,
  "vscode": {
   "interpreter": {
    "hash": "c2f95d9392ed95f708cca12f439b9eb2363465397b0b08450832f54c31aee4aa"
   }
  }
 },
 "nbformat": 4,
 "nbformat_minor": 2
}
